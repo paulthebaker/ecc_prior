{
 "cells": [
  {
   "cell_type": "markdown",
   "id": "282d5763-f760-454c-bbf7-f5d7609c4998",
   "metadata": {},
   "source": [
    "# EccPrior and EccBurst Tutorial\n",
    "`EccPrior` is an eccentric burst prior that uses `EccBurst` to generate predicted locations of eccentric GW bursts in time-frequency space. `EccBurst` uses equations from L&Y 2017 to estimate the locations of eccentric GW bursts in time-frequency space. This notebook presents the basic usage of classes `EccPrior` and `EccBurst`."
   ]
  },
  {
   "cell_type": "code",
   "execution_count": 1,
   "id": "d9c10070-8216-4eb4-a9f4-7b34a1dafa6e",
   "metadata": {},
   "outputs": [],
   "source": [
    "from __future__ import (absolute_import, division,\n",
    "                        print_function, unicode_literals)\n",
    "%load_ext autoreload\n",
    "\n",
    "import sys\n",
    "sys.path.append('../')"
   ]
  },
  {
   "cell_type": "code",
   "execution_count": 2,
   "id": "7709512c-0c51-49b0-8ad3-54b04f94868e",
   "metadata": {
    "tags": []
   },
   "outputs": [],
   "source": [
    "import numpy as np\n",
    "import matplotlib.pyplot as plt\n",
    "\n",
    "from ecc_prior.ecc_burst import EccBurst\n",
    "from ecc_prior.ecc_prior import EccPrior\n",
    "\n",
    "%matplotlib inline\n",
    "%autoreload 2"
   ]
  },
  {
   "cell_type": "code",
   "execution_count": 3,
   "id": "e2939ead-6389-4637-94c6-67ff981de044",
   "metadata": {},
   "outputs": [],
   "source": [
    "def prior_mapping(tmin, tmax, Mtot, Mc, destar, tstar, fstar):\n",
    "    '''Creates a 2-D histogram of the prior surface for a given set of meta parameters\n",
    "       Returns the ts, fs, and surface probabilities'''\n",
    "    Nf = 300\n",
    "    Nt = 300\n",
    "\n",
    "    Fs = np.linspace((fstar-10), (fstar+10), Nf)\n",
    "    Ts = np.linspace(tmin, tmax, Nt)\n",
    "\n",
    "    prior_map = np.zeros([Nf, Nt])\n",
    "\n",
    "    for ii,tt in enumerate(Ts):\n",
    "        for jj,ff in enumerate(Fs):\n",
    "            prior_map[jj,ii] = ep.get_prior([[tt,ff]], Mtot, Mc, destar, tstar, fstar)\n",
    "    \n",
    "    return Ts, Fs, prior_map"
   ]
  },
  {
   "cell_type": "markdown",
   "id": "f7daf81c-c084-473c-91fb-a3c6b08fe1b6",
   "metadata": {},
   "source": [
    "`EccBurst` assumes M = 1 and is in units of M; `EccPrior` works in SI units. Please keep this in mind when establishing both class objects. "
   ]
  },
  {
   "cell_type": "code",
   "execution_count": 4,
   "id": "844d5ab4-9212-43af-af27-1accc2358fb6",
   "metadata": {},
   "outputs": [],
   "source": [
    "tmin = -1.5 #lower time window bound in seconds\n",
    "tmax = 1.5 #upper time window bound in seconds\n",
    "q = 0.6 #mass ratio with convention m2 < m1\n",
    "\n",
    "eb = EccBurst(q)\n",
    "ep = EccPrior(tmin, tmax)"
   ]
  },
  {
   "cell_type": "markdown",
   "id": "6377eb83-f15a-45ff-bc53-59ca918e3e9f",
   "metadata": {},
   "source": [
    "As mentioned earlier, `EccPrior` uses `EccBurst` to generate bursts within a specified time window, but can be also used on its own. To generate a set of bursts for a source, it is important to establish `tstar`, `fstar`, `destar`.  These three parameters denote the location of the \"anchor burst\" in time-frequency space. The anchor burst is a burst that is used to find the locations of the other bursts in time-frequency space. Values of destar > 0.3 will cause the L&Y 2017 equations to break down."
   ]
  },
  {
   "cell_type": "code",
   "execution_count": 5,
   "id": "82f60323-907b-44b3-b9af-10ccd96fdcaa",
   "metadata": {},
   "outputs": [],
   "source": [
    "tstar = 0 #sec\n",
    "fstar = 40 #Hz\n",
    "destar = 0.1 #1-e, where e is the eccentricity\n",
    "Mtot = 50 #total mass in solar masses\n",
    "Mchirp = q**(3/5)/(1+q)**(6/5)*Mtot # chirp mass in solar masses\n",
    "\n",
    "#To use EccBurst all quantities must be converted to units of total mass\n",
    "GMsun = 1.32712440018e20  # m^3/s^2\n",
    "c = 299792458 # m/s\n",
    "Tsun = GMsun / c**3\n",
    "sec2M = Mtot/Tsun #sec to M\n",
    "\n",
    "bursts = eb.get_all_bursts(tstar*sec2M, fstar/sec2M, destar, tmin*sec2M, tmax*sec2M)\n",
    "bursts = np.array(bursts).T"
   ]
  },
  {
   "cell_type": "markdown",
   "id": "e59f3560-6971-45fd-94ba-32b8523d2581",
   "metadata": {},
   "source": [
    "Plotting the burst locations in the time window gives a sense of the frequency evolution of the bursts."
   ]
  },
  {
   "cell_type": "code",
   "execution_count": 6,
   "id": "ef15b6f0-9a13-4031-b9af-a3a6f3b35068",
   "metadata": {},
   "outputs": [
    {
     "data": {
      "text/plain": [
       "Text(0.5, 0, 'Time (sec)')"
      ]
     },
     "execution_count": 6,
     "metadata": {},
     "output_type": "execute_result"
    },
    {
     "data": {
      "image/png": "[encoded data removed]",
      "text/plain": [
       "<Figure size 432x288 with 1 Axes>"
      ]
     },
     "metadata": {
      "needs_background": "light"
     },
     "output_type": "display_data"
    }
   ],
   "source": [
    "fig, ax = plt.subplots()\n",
    "ax.scatter(bursts[0]/sec2M, bursts[1]*sec2M) #converting back to SI for the sake of plotting\n",
    "ax.ticklabel_format(useOffset=False)\n",
    "ax.set_ylabel('Frequency (Hz)')\n",
    "ax.set_xlabel('Time (sec)')"
   ]
  },
  {
   "cell_type": "markdown",
   "id": "6f949c53-7854-4e6c-834d-a42f6844669d",
   "metadata": {},
   "source": [
    "To view the uncertainty on these burst locations it is important to utilize `EccPrior` to plot the probability space."
   ]
  },
  {
   "cell_type": "code",
   "execution_count": 7,
   "id": "e98eca73-e541-41ae-94a5-0b68f17869ad",
   "metadata": {},
   "outputs": [],
   "source": [
    "#calulcate the probability for each t,f in the time window\n",
    "ts, fs, blob_map = prior_mapping(tmin, tmax, Mtot, Mchirp, destar, tstar, fstar)"
   ]
  },
  {
   "cell_type": "code",
   "execution_count": 8,
   "id": "6817a966-f938-4908-a218-18ed8b08f125",
   "metadata": {},
   "outputs": [
    {
     "data": {
      "image/png": "[encoded data removed]",
      "text/plain": [
       "<Figure size 432x288 with 1 Axes>"
      ]
     },
     "metadata": {
      "needs_background": "light"
     },
     "output_type": "display_data"
    }
   ],
   "source": [
    "#Plot the prior map\n",
    "prior_map_fig = plt.figure()\n",
    "ax = prior_map_fig.add_subplot(111)\n",
    "ax.pcolormesh(ts, fs, blob_map, cmap='plasma', shading='auto')\n",
    "ax.set_xlabel(r'$t$ (sec)');\n",
    "ax.set_ylabel(r'$f$ (Hz)');\n",
    "plt.tight_layout()"
   ]
  },
  {
   "cell_type": "code",
   "execution_count": null,
   "id": "2b2e910a-0552-4e62-9078-6da83ddef39b",
   "metadata": {},
   "outputs": [],
   "source": []
  }
 ],
 "metadata": {
  "kernelspec": {
   "display_name": "Python 3",
   "language": "python",
   "name": "python3"
  },
  "language_info": {
   "codemirror_mode": {
    "name": "ipython",
    "version": 3
   },
   "file_extension": ".py",
   "mimetype": "text/x-python",
   "name": "python",
   "nbconvert_exporter": "python",
   "pygments_lexer": "ipython3",
   "version": "3.9.4"
  }
 },
 "nbformat": 4,
 "nbformat_minor": 5
}
